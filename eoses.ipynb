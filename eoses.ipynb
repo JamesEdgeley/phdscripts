{
 "cells": [
  {
   "cell_type": "code",
   "execution_count": 2,
   "metadata": {},
   "outputs": [],
   "source": [
    "from math import exp\n",
    "import numpy\n",
    "from matplotlib import pyplot as plt"
   ]
  },
  {
   "cell_type": "code",
   "execution_count": 209,
   "metadata": {},
   "outputs": [],
   "source": [
    "lam = 0.948747\n",
    "phi = 0.764448\n",
    "V_0 = 0.825076\n",
    "E_0 = 0.987657\n",
    "V_00 = 1 / 1.76\n",
    "density_0 = 1.76\n",
    "a = 0.23\n",
    "b = 2.5\n",
    "Z = -0.8066\n",
    "Gamma_0 = 1.22\n",
    "Q = 0.0571\n",
    "V_0s = 1/1.76\n",
    "w = 0.28\n",
    "rho=1\n",
    "A= -5.5524 * rho*rho + 17.714 * rho - 7.7969\n",
    "B = -0.6198 * rho*rho*rho + 2.09 * rho*rho - 2.0878 * rho + 0.754\n",
    "R1 = -0.4911 * rho*rho - 1.6304 * rho + 8.8185\n",
    "R2 = -0.8716 * rho*rho*rho + 2.6773 * rho*rho - 3.2307 * rho + 3.3637"
   ]
  },
  {
   "cell_type": "code",
   "execution_count": 223,
   "metadata": {},
   "outputs": [],
   "source": [
    "\n",
    "V_s=numpy.linspace(14,16.1,num=100000)\n",
    "#V_s = 0.654484231545955\n",
    "y = 1 - phi*V_s / V_00\n",
    "x=4.0 * b * y\n",
    "P_i = a * a * density_0 * (numpy.exp(x) -1)/ (4.0 * b)\n",
    "E_i = a * a * (numpy.exp(x)-1) / (16.0 * b * b) + density_0 * a * a * (phi*V_s - V_00) / (4.0 * b) + Q\n",
    "E_s = 5.423618\n",
    "Gamma = Gamma_0 + Z * y\n",
    "P_s = phi*(P_i + Gamma * (E_s - E_i) / (phi*V_s))\n",
    "dPs = phi*phi*(- a * a * density_0 * density_0 * numpy.exp(4.0 * b * y) + Gamma * P_i / (phi*V_s) - (Gamma_0 + Z) * (P_s - P_i) / (Gamma * phi*V_s))"
   ]
  },
  {
   "cell_type": "code",
   "execution_count": 226,
   "metadata": {},
   "outputs": [
    {
     "data": {
      "image/png": "[encoded data removed]",
      "text/plain": [
       "<Figure size 432x288 with 1 Axes>"
      ]
     },
     "metadata": {
      "needs_background": "light"
     },
     "output_type": "display_data"
    }
   ],
   "source": [
    "#V_g = (V_0 - (1 - lam) * V_s ) / lam\n",
    "#E_g = (E_0 - (1 - lam) * E_s) / lam\n",
    "\n",
    "V_g=numpy.linspace(0.0001,20,num=100000)\n",
    "#V_g = 1.539425933785942\n",
    "\n",
    "P_g = A * (1 - w * V_0s / (R1 * V_g)) * numpy.exp(-R1 * V_g / V_0s) + B * (1 - w * V_0s / (R2 * V_g)) * numpy.exp(-R2 * V_g / V_0s) + w * E_g * V_0s / V_g\n",
    "P1 = A * (w * V_0s / (R1 * V_g * V_g) + w / V_g - R1 / V_0s) * numpy.exp(-R1 * V_g / V_0s)\n",
    "P2 = B * (w * V_0s / (R2 * V_g * V_g) + w / V_g - R2 / V_0s) * numpy.exp(-R2 * V_g / V_0s)\n",
    "dPg = P1 + P2 - w * E_g * V_0s / (V_g * V_g)\n",
    "\n",
    "diff = P_s - P_g\n",
    "#ddiff = dPs-dPg\n",
    "#plt.plot(V_g,P_g)\n",
    "#plt.plot(V_s,P_s)\n",
    "plt.plot(V_g,P_g)\n",
    "#plt.plot(V_s,diff)\n",
    "plt.ylim([0,10])\n",
    "plt.legend(['P_s','P_g','diff'])\n",
    "plt.show()\n",
    "\n"
   ]
  }
 ],
 "metadata": {
  "interpreter": {
   "hash": "936270f6acbaa77940050ab2404f1a2d651451c3b4908a50eae714e224756d02"
  },
  "kernelspec": {
   "display_name": "Python 3.8.8 64-bit ('base': conda)",
   "name": "python3"
  },
  "language_info": {
   "codemirror_mode": {
    "name": "ipython",
    "version": 3
   },
   "file_extension": ".py",
   "mimetype": "text/x-python",
   "name": "python",
   "nbconvert_exporter": "python",
   "pygments_lexer": "ipython3",
   "version": "3.8.8"
  },
  "orig_nbformat": 4
 },
 "nbformat": 4,
 "nbformat_minor": 2
}
