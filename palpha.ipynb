{
 "cells": [
  {
   "cell_type": "code",
   "execution_count": 27,
   "metadata": {},
   "outputs": [],
   "source": [
    "import sys\n",
    "import numpy as np\n",
    "import pandas as pd\n",
    "from matplotlib import pyplot as plt\n",
    "from math import exp,sqrt\n",
    "A = 0.23\n",
    "B=2.5\n",
    "density_0=1.76\n",
    "V_00 = 1/density_0\n",
    "C=0.7\n",
    "Ph=0.0007\n",
    "kphi=3150\n",
    "G=1.22\n",
    "Q=0.0571\n",
    "Z=-0.8066"
   ]
  },
  {
   "cell_type": "code",
   "execution_count": 28,
   "metadata": {},
   "outputs": [],
   "source": [
    "def rate(phi,phi_0,P):\n",
    "    t=phi_0*(1-phi)\n",
    "    b=phi*(1-phi_0)\n",
    "    return kphi * (P-Ph*(1-sqrt(t/b)))"
   ]
  },
  {
   "cell_type": "code",
   "execution_count": 49,
   "metadata": {},
   "outputs": [],
   "source": [
    "def EoS(V,E):\n",
    "    y=1-V/V_00\n",
    "    x=4*B*y\n",
    "    Pi= (density_0*A*A/(4*B)) * (exp(x)-1) if y<=0 else (density_0*A*A/(4*B)) * (x + x*x/2+x*x*x/6+C*x*x*x*x/24 + y*y * V_00*V_00*V_00*V_00/(V*V*V*V))\n",
    "    Ei = (A*A/(16*B*B)) * (exp(x)-1) + density_0 * A*A * (V-V_00)/(4*B) + Q if y<=0 else (A*A/(16*B*B)) * (x*x/2+x*x*x/6+x*x*x*x/24+C*x*x*x*x*x/120) + A*A*y*y*y*V_00*V_00*V_00/(12*B*V*V*V) + Q\n",
    "    Gamma = G+Z*y if y<=0 else G\n",
    "\n",
    "    return Pi + (E-Ei)*Gamma/V"
   ]
  },
  {
   "cell_type": "code",
   "execution_count": 72,
   "metadata": {},
   "outputs": [
    {
     "data": {
      "text/plain": [
       "[<matplotlib.lines.Line2D at 0x219aa0ed760>]"
      ]
     },
     "execution_count": 72,
     "metadata": {},
     "output_type": "execute_result"
    },
    {
     "data": {
      "image/png": "[encoded data removed]",
      "text/plain": [
       "<Figure size 432x288 with 1 Axes>"
      ]
     },
     "metadata": {
      "needs_background": "light"
     },
     "output_type": "display_data"
    }
   ],
   "source": [
    "dt=0.0000005\n",
    "dV=0.0001\n",
    "\n",
    "E=0.0571\n",
    "phi_0=0.5\n",
    "phi=0.5\n",
    "nV=V_00/phi_0\n",
    "P=0.01\n",
    "Ps=[]\n",
    "Vs=[]\n",
    "while nV>0.25:\n",
    "    r=rate(phi,phi_0,P)\n",
    "    phi=min(1,phi+r*dt)\n",
    "    oV=nV\n",
    "    nV-=dV\n",
    "    #E-=P*(nV-oV)\n",
    "    P=phi*EoS(phi*nV,E)\n",
    "    Ps.append(100*P)\n",
    "    Vs.append(nV)\n",
    "\n",
    "d={'V': Vs, 'P': Ps}\n",
    "\n",
    "df=pd.DataFrame(data=d)\n",
    "df=df[df.index % 100 == 0]\n",
    "df.to_csv('compaction.txt', sep='\\t',index=False)\n",
    "plt.plot(Vs,Ps)\n"
   ]
  }
 ],
 "metadata": {
  "language_info": {
   "name": "python"
  },
  "orig_nbformat": 4
 },
 "nbformat": 4,
 "nbformat_minor": 2
}
